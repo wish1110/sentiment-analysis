{
 "cells": [
  {
   "cell_type": "code",
   "execution_count": null,
   "id": "b36c4366",
   "metadata": {},
   "outputs": [],
   "source": [
    "pip install torch\n",
    "pip install transformers datasets\n"
   ]
  },
  {
   "cell_type": "code",
   "execution_count": null,
   "id": "9d2d7f50",
   "metadata": {},
   "outputs": [],
   "source": [
    "#sentiment analysis of text\n",
    "from transformers import pipeline\n",
    "classifier = pipeline(\"sentiment-analysis\")\n",
    "\n",
    "results = classifier(\n",
    "    [\"China’s durian market ripens as Thailand loses ground, Vietnam and Philippines get a taste\",\"China, the world’s largest durian consumer, is exploring its import options to satisfy a large and ravenous customer base\",\n",
    "\"Thailand, previously the undisputed leader in fresh durian exports to China, is losing share as others get sanction to ship\"]\n",
    ")\n",
    "for result in results:\n",
    "    print(f\"label: {result['label']}, with score: {round(result['score'], 4)}\")"
   ]
  },
  {
   "cell_type": "code",
   "execution_count": null,
   "id": "ffd5e1d2",
   "metadata": {},
   "outputs": [],
   "source": [
    "#audio to text sample\n",
    "import torch\n",
    "from transformers import pipeline\n",
    "from datasets import load_dataset, Audio\n",
    "\n",
    "speech_recognizer = pipeline(\"automatic-speech-recognition\", model=\"facebook/wav2vec2-base-960h\")\n",
    "dataset = load_dataset(\"PolyAI/minds14\", name=\"en-US\", split=\"train\")\n",
    "dataset = dataset.cast_column(\"audio\", Audio(sampling_rate=speech_recognizer.feature_extractor.sampling_rate))\n",
    "result=speech_recognizer(dataset[:4][\"audio\"])\n",
    "\n",
    "print(result)"
   ]
  },
  {
   "cell_type": "code",
   "execution_count": null,
   "id": "0f36db11",
   "metadata": {},
   "outputs": [],
   "source": [
    "#another sentiment analysis\n",
    "\n",
    "from transformers import AutoTokenizer, AutoModelForSequenceClassification\n",
    "\n",
    "model_name = 'nlptown/bert-base-multilingual-uncased-sentiment'\n",
    "model = AutoModelForSequenceClassification.from_pretrained(model_name)\n",
    "tokenizer = AutoTokenizer.from_pretrained(model_name)\n",
    "\n",
    "classifier2 = pipeline(\"sentiment-analysis\", model=model, tokenizer = tokenizer)\n",
    "classifier1(\"Japan Becomes the Latest Country to Land on the Moon\")"
   ]
  }
 ],
 "metadata": {
  "kernelspec": {
   "display_name": "Python 3 (ipykernel)",
   "language": "python",
   "name": "python3"
  },
  "language_info": {
   "codemirror_mode": {
    "name": "ipython",
    "version": 3
   },
   "file_extension": ".py",
   "mimetype": "text/x-python",
   "name": "python",
   "nbconvert_exporter": "python",
   "pygments_lexer": "ipython3",
   "version": "3.9.12"
  }
 },
 "nbformat": 4,
 "nbformat_minor": 5
}
